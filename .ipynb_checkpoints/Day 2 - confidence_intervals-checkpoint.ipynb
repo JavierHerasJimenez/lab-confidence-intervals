{
 "cells": [
  {
   "cell_type": "code",
   "execution_count": 1,
   "metadata": {
    "executionInfo": {
     "elapsed": 793,
     "status": "ok",
     "timestamp": 1667851248346,
     "user": {
      "displayName": "David Henriques",
      "userId": "12666549553310163307"
     },
     "user_tz": 0
    },
    "id": "DRunozGMD48J"
   },
   "outputs": [],
   "source": [
    "import pandas as pd\n",
    "import numpy as np\n",
    "import scipy.stats as st"
   ]
  },
  {
   "cell_type": "code",
   "execution_count": 2,
   "metadata": {
    "colab": {
     "base_uri": "https://localhost:8080/",
     "height": 112
    },
    "executionInfo": {
     "elapsed": 291,
     "status": "ok",
     "timestamp": 1667851273407,
     "user": {
      "displayName": "David Henriques",
      "userId": "12666549553310163307"
     },
     "user_tz": 0
    },
    "id": "ZDxXvJDKD7Ry",
    "outputId": "af33519e-4f60-4e62-bd98-7a8fee9edb91"
   },
   "outputs": [
    {
     "data": {
      "text/html": [
       "\n",
       "  <div id=\"df-57ca2c41-412d-422a-b831-4fb7765a88f3\">\n",
       "    <div class=\"colab-df-container\">\n",
       "      <div>\n",
       "<style scoped>\n",
       "    .dataframe tbody tr th:only-of-type {\n",
       "        vertical-align: middle;\n",
       "    }\n",
       "\n",
       "    .dataframe tbody tr th {\n",
       "        vertical-align: top;\n",
       "    }\n",
       "\n",
       "    .dataframe thead th {\n",
       "        text-align: right;\n",
       "    }\n",
       "</style>\n",
       "<table border=\"1\" class=\"dataframe\">\n",
       "  <thead>\n",
       "    <tr style=\"text-align: right;\">\n",
       "      <th></th>\n",
       "      <th>longitude</th>\n",
       "      <th>latitude</th>\n",
       "      <th>housing_median_age</th>\n",
       "      <th>total_rooms</th>\n",
       "      <th>total_bedrooms</th>\n",
       "      <th>population</th>\n",
       "      <th>households</th>\n",
       "      <th>median_income</th>\n",
       "      <th>median_house_value</th>\n",
       "    </tr>\n",
       "  </thead>\n",
       "  <tbody>\n",
       "    <tr>\n",
       "      <th>0</th>\n",
       "      <td>-114.31</td>\n",
       "      <td>34.19</td>\n",
       "      <td>15.0</td>\n",
       "      <td>5612.0</td>\n",
       "      <td>1283.0</td>\n",
       "      <td>1015.0</td>\n",
       "      <td>472.0</td>\n",
       "      <td>1.4936</td>\n",
       "      <td>66900.0</td>\n",
       "    </tr>\n",
       "    <tr>\n",
       "      <th>1</th>\n",
       "      <td>-114.47</td>\n",
       "      <td>34.40</td>\n",
       "      <td>19.0</td>\n",
       "      <td>7650.0</td>\n",
       "      <td>1901.0</td>\n",
       "      <td>1129.0</td>\n",
       "      <td>463.0</td>\n",
       "      <td>1.8200</td>\n",
       "      <td>80100.0</td>\n",
       "    </tr>\n",
       "  </tbody>\n",
       "</table>\n",
       "</div>\n",
       "      <button class=\"colab-df-convert\" onclick=\"convertToInteractive('df-57ca2c41-412d-422a-b831-4fb7765a88f3')\"\n",
       "              title=\"Convert this dataframe to an interactive table.\"\n",
       "              style=\"display:none;\">\n",
       "        \n",
       "  <svg xmlns=\"http://www.w3.org/2000/svg\" height=\"24px\"viewBox=\"0 0 24 24\"\n",
       "       width=\"24px\">\n",
       "    <path d=\"M0 0h24v24H0V0z\" fill=\"none\"/>\n",
       "    <path d=\"M18.56 5.44l.94 2.06.94-2.06 2.06-.94-2.06-.94-.94-2.06-.94 2.06-2.06.94zm-11 1L8.5 8.5l.94-2.06 2.06-.94-2.06-.94L8.5 2.5l-.94 2.06-2.06.94zm10 10l.94 2.06.94-2.06 2.06-.94-2.06-.94-.94-2.06-.94 2.06-2.06.94z\"/><path d=\"M17.41 7.96l-1.37-1.37c-.4-.4-.92-.59-1.43-.59-.52 0-1.04.2-1.43.59L10.3 9.45l-7.72 7.72c-.78.78-.78 2.05 0 2.83L4 21.41c.39.39.9.59 1.41.59.51 0 1.02-.2 1.41-.59l7.78-7.78 2.81-2.81c.8-.78.8-2.07 0-2.86zM5.41 20L4 18.59l7.72-7.72 1.47 1.35L5.41 20z\"/>\n",
       "  </svg>\n",
       "      </button>\n",
       "      \n",
       "  <style>\n",
       "    .colab-df-container {\n",
       "      display:flex;\n",
       "      flex-wrap:wrap;\n",
       "      gap: 12px;\n",
       "    }\n",
       "\n",
       "    .colab-df-convert {\n",
       "      background-color: #E8F0FE;\n",
       "      border: none;\n",
       "      border-radius: 50%;\n",
       "      cursor: pointer;\n",
       "      display: none;\n",
       "      fill: #1967D2;\n",
       "      height: 32px;\n",
       "      padding: 0 0 0 0;\n",
       "      width: 32px;\n",
       "    }\n",
       "\n",
       "    .colab-df-convert:hover {\n",
       "      background-color: #E2EBFA;\n",
       "      box-shadow: 0px 1px 2px rgba(60, 64, 67, 0.3), 0px 1px 3px 1px rgba(60, 64, 67, 0.15);\n",
       "      fill: #174EA6;\n",
       "    }\n",
       "\n",
       "    [theme=dark] .colab-df-convert {\n",
       "      background-color: #3B4455;\n",
       "      fill: #D2E3FC;\n",
       "    }\n",
       "\n",
       "    [theme=dark] .colab-df-convert:hover {\n",
       "      background-color: #434B5C;\n",
       "      box-shadow: 0px 1px 3px 1px rgba(0, 0, 0, 0.15);\n",
       "      filter: drop-shadow(0px 1px 2px rgba(0, 0, 0, 0.3));\n",
       "      fill: #FFFFFF;\n",
       "    }\n",
       "  </style>\n",
       "\n",
       "      <script>\n",
       "        const buttonEl =\n",
       "          document.querySelector('#df-57ca2c41-412d-422a-b831-4fb7765a88f3 button.colab-df-convert');\n",
       "        buttonEl.style.display =\n",
       "          google.colab.kernel.accessAllowed ? 'block' : 'none';\n",
       "\n",
       "        async function convertToInteractive(key) {\n",
       "          const element = document.querySelector('#df-57ca2c41-412d-422a-b831-4fb7765a88f3');\n",
       "          const dataTable =\n",
       "            await google.colab.kernel.invokeFunction('convertToInteractive',\n",
       "                                                     [key], {});\n",
       "          if (!dataTable) return;\n",
       "\n",
       "          const docLinkHtml = 'Like what you see? Visit the ' +\n",
       "            '<a target=\"_blank\" href=https://colab.research.google.com/notebooks/data_table.ipynb>data table notebook</a>'\n",
       "            + ' to learn more about interactive tables.';\n",
       "          element.innerHTML = '';\n",
       "          dataTable['output_type'] = 'display_data';\n",
       "          await google.colab.output.renderOutput(dataTable, element);\n",
       "          const docLink = document.createElement('div');\n",
       "          docLink.innerHTML = docLinkHtml;\n",
       "          element.appendChild(docLink);\n",
       "        }\n",
       "      </script>\n",
       "    </div>\n",
       "  </div>\n",
       "  "
      ],
      "text/plain": [
       "   longitude  latitude  housing_median_age  total_rooms  total_bedrooms  \\\n",
       "0    -114.31     34.19                15.0       5612.0          1283.0   \n",
       "1    -114.47     34.40                19.0       7650.0          1901.0   \n",
       "\n",
       "   population  households  median_income  median_house_value  \n",
       "0      1015.0       472.0         1.4936             66900.0  \n",
       "1      1129.0       463.0         1.8200             80100.0  "
      ]
     },
     "execution_count": 2,
     "metadata": {},
     "output_type": "execute_result"
    }
   ],
   "source": [
    "houses = pd.read_csv('sample_data/california_housing_train.csv')\n",
    "houses.head(2)"
   ]
  },
  {
   "cell_type": "code",
   "execution_count": 3,
   "metadata": {
    "colab": {
     "base_uri": "https://localhost:8080/"
    },
    "executionInfo": {
     "elapsed": 2,
     "status": "ok",
     "timestamp": 1667851273710,
     "user": {
      "displayName": "David Henriques",
      "userId": "12666549553310163307"
     },
     "user_tz": 0
    },
    "id": "I1Wk1kn1uA4z",
    "outputId": "44191432-c513-4389-e715-3d8db3f1b6bc"
   },
   "outputs": [
    {
     "data": {
      "text/plain": [
       "(17000, 9)"
      ]
     },
     "execution_count": 3,
     "metadata": {},
     "output_type": "execute_result"
    }
   ],
   "source": [
    "houses.shape"
   ]
  },
  {
   "cell_type": "code",
   "execution_count": 4,
   "metadata": {
    "executionInfo": {
     "elapsed": 3,
     "status": "ok",
     "timestamp": 1667851273994,
     "user": {
      "displayName": "David Henriques",
      "userId": "12666549553310163307"
     },
     "user_tz": 0
    },
    "id": "zviXWliBE9fG"
   },
   "outputs": [],
   "source": [
    "# There are two schools at these coordinates:\n",
    "#school1_latitude = 37.39\n",
    "#school1_longitude = -122.13\n",
    "#school2_latitude = 33.83\n",
    "#school2_longitude = -118.48"
   ]
  },
  {
   "cell_type": "code",
   "execution_count": 5,
   "metadata": {
    "executionInfo": {
     "elapsed": 2,
     "status": "ok",
     "timestamp": 1667851273994,
     "user": {
      "displayName": "David Henriques",
      "userId": "12666549553310163307"
     },
     "user_tz": 0
    },
    "id": "1BbGm2kLFZbr"
   },
   "outputs": [],
   "source": [
    "# The hypothesis I want to test is if median_house_value is higher close to schools\n",
    "\n",
    "# You can assume that distances between two points p1 and p2 in lat and lon can be computed as usual Euclidean distances:\n",
    "# d(p1,p2) = np.sqrt((p1_lon-p2_lon)**2 + (p1_lat-p2_lat)**2)\n",
    "# Let's assume that a point is \"close\" to another if the distance in lat and lon is < 0.5"
   ]
  },
  {
   "cell_type": "code",
   "execution_count": 6,
   "metadata": {
    "executionInfo": {
     "elapsed": 2,
     "status": "ok",
     "timestamp": 1667851274281,
     "user": {
      "displayName": "David Henriques",
      "userId": "12666549553310163307"
     },
     "user_tz": 0
    },
    "id": "iJXf9gBNGxmq"
   },
   "outputs": [],
   "source": [
    "def distance_school1(row):\n",
    "  return np.sqrt((row['latitude']-37.39)**2+(row['longitude']+122.13)**2)\n",
    "\n",
    "def distance_school2(row):\n",
    "  return np.sqrt((row['latitude']-33.83)**2+(row['longitude']+118.48)**2)"
   ]
  },
  {
   "cell_type": "code",
   "execution_count": 7,
   "metadata": {
    "executionInfo": {
     "elapsed": 880,
     "status": "ok",
     "timestamp": 1667851276190,
     "user": {
      "displayName": "David Henriques",
      "userId": "12666549553310163307"
     },
     "user_tz": 0
    },
    "id": "Sqk_9aAhH-GB"
   },
   "outputs": [],
   "source": [
    "houses['D_sch1'] = houses.apply(distance_school1,axis=1)\n",
    "houses['D_sch2'] = houses.apply(distance_school2,axis=1)"
   ]
  },
  {
   "cell_type": "code",
   "execution_count": 8,
   "metadata": {
    "colab": {
     "base_uri": "https://localhost:8080/",
     "height": 206
    },
    "executionInfo": {
     "elapsed": 9,
     "status": "ok",
     "timestamp": 1667851276191,
     "user": {
      "displayName": "David Henriques",
      "userId": "12666549553310163307"
     },
     "user_tz": 0
    },
    "id": "NCTTbj7wIXlb",
    "outputId": "cc427807-d95a-4824-d5b8-8ce6eb90572d"
   },
   "outputs": [
    {
     "data": {
      "text/html": [
       "\n",
       "  <div id=\"df-1769fc11-6cb4-45fd-b1ac-e0e8b3c63de4\">\n",
       "    <div class=\"colab-df-container\">\n",
       "      <div>\n",
       "<style scoped>\n",
       "    .dataframe tbody tr th:only-of-type {\n",
       "        vertical-align: middle;\n",
       "    }\n",
       "\n",
       "    .dataframe tbody tr th {\n",
       "        vertical-align: top;\n",
       "    }\n",
       "\n",
       "    .dataframe thead th {\n",
       "        text-align: right;\n",
       "    }\n",
       "</style>\n",
       "<table border=\"1\" class=\"dataframe\">\n",
       "  <thead>\n",
       "    <tr style=\"text-align: right;\">\n",
       "      <th></th>\n",
       "      <th>longitude</th>\n",
       "      <th>latitude</th>\n",
       "      <th>housing_median_age</th>\n",
       "      <th>total_rooms</th>\n",
       "      <th>total_bedrooms</th>\n",
       "      <th>population</th>\n",
       "      <th>households</th>\n",
       "      <th>median_income</th>\n",
       "      <th>median_house_value</th>\n",
       "      <th>D_sch1</th>\n",
       "      <th>D_sch2</th>\n",
       "    </tr>\n",
       "  </thead>\n",
       "  <tbody>\n",
       "    <tr>\n",
       "      <th>0</th>\n",
       "      <td>-114.31</td>\n",
       "      <td>34.19</td>\n",
       "      <td>15.0</td>\n",
       "      <td>5612.0</td>\n",
       "      <td>1283.0</td>\n",
       "      <td>1015.0</td>\n",
       "      <td>472.0</td>\n",
       "      <td>1.4936</td>\n",
       "      <td>66900.0</td>\n",
       "      <td>8.449402</td>\n",
       "      <td>4.185511</td>\n",
       "    </tr>\n",
       "    <tr>\n",
       "      <th>1</th>\n",
       "      <td>-114.47</td>\n",
       "      <td>34.40</td>\n",
       "      <td>19.0</td>\n",
       "      <td>7650.0</td>\n",
       "      <td>1901.0</td>\n",
       "      <td>1129.0</td>\n",
       "      <td>463.0</td>\n",
       "      <td>1.8200</td>\n",
       "      <td>80100.0</td>\n",
       "      <td>8.222877</td>\n",
       "      <td>4.050309</td>\n",
       "    </tr>\n",
       "    <tr>\n",
       "      <th>2</th>\n",
       "      <td>-114.56</td>\n",
       "      <td>33.69</td>\n",
       "      <td>17.0</td>\n",
       "      <td>720.0</td>\n",
       "      <td>174.0</td>\n",
       "      <td>333.0</td>\n",
       "      <td>117.0</td>\n",
       "      <td>1.6509</td>\n",
       "      <td>85700.0</td>\n",
       "      <td>8.425847</td>\n",
       "      <td>3.922499</td>\n",
       "    </tr>\n",
       "    <tr>\n",
       "      <th>3</th>\n",
       "      <td>-114.57</td>\n",
       "      <td>33.64</td>\n",
       "      <td>14.0</td>\n",
       "      <td>1501.0</td>\n",
       "      <td>337.0</td>\n",
       "      <td>515.0</td>\n",
       "      <td>226.0</td>\n",
       "      <td>3.1917</td>\n",
       "      <td>73400.0</td>\n",
       "      <td>8.438963</td>\n",
       "      <td>3.914614</td>\n",
       "    </tr>\n",
       "    <tr>\n",
       "      <th>4</th>\n",
       "      <td>-114.57</td>\n",
       "      <td>33.57</td>\n",
       "      <td>20.0</td>\n",
       "      <td>1454.0</td>\n",
       "      <td>326.0</td>\n",
       "      <td>624.0</td>\n",
       "      <td>262.0</td>\n",
       "      <td>1.9250</td>\n",
       "      <td>65500.0</td>\n",
       "      <td>8.470301</td>\n",
       "      <td>3.918635</td>\n",
       "    </tr>\n",
       "  </tbody>\n",
       "</table>\n",
       "</div>\n",
       "      <button class=\"colab-df-convert\" onclick=\"convertToInteractive('df-1769fc11-6cb4-45fd-b1ac-e0e8b3c63de4')\"\n",
       "              title=\"Convert this dataframe to an interactive table.\"\n",
       "              style=\"display:none;\">\n",
       "        \n",
       "  <svg xmlns=\"http://www.w3.org/2000/svg\" height=\"24px\"viewBox=\"0 0 24 24\"\n",
       "       width=\"24px\">\n",
       "    <path d=\"M0 0h24v24H0V0z\" fill=\"none\"/>\n",
       "    <path d=\"M18.56 5.44l.94 2.06.94-2.06 2.06-.94-2.06-.94-.94-2.06-.94 2.06-2.06.94zm-11 1L8.5 8.5l.94-2.06 2.06-.94-2.06-.94L8.5 2.5l-.94 2.06-2.06.94zm10 10l.94 2.06.94-2.06 2.06-.94-2.06-.94-.94-2.06-.94 2.06-2.06.94z\"/><path d=\"M17.41 7.96l-1.37-1.37c-.4-.4-.92-.59-1.43-.59-.52 0-1.04.2-1.43.59L10.3 9.45l-7.72 7.72c-.78.78-.78 2.05 0 2.83L4 21.41c.39.39.9.59 1.41.59.51 0 1.02-.2 1.41-.59l7.78-7.78 2.81-2.81c.8-.78.8-2.07 0-2.86zM5.41 20L4 18.59l7.72-7.72 1.47 1.35L5.41 20z\"/>\n",
       "  </svg>\n",
       "      </button>\n",
       "      \n",
       "  <style>\n",
       "    .colab-df-container {\n",
       "      display:flex;\n",
       "      flex-wrap:wrap;\n",
       "      gap: 12px;\n",
       "    }\n",
       "\n",
       "    .colab-df-convert {\n",
       "      background-color: #E8F0FE;\n",
       "      border: none;\n",
       "      border-radius: 50%;\n",
       "      cursor: pointer;\n",
       "      display: none;\n",
       "      fill: #1967D2;\n",
       "      height: 32px;\n",
       "      padding: 0 0 0 0;\n",
       "      width: 32px;\n",
       "    }\n",
       "\n",
       "    .colab-df-convert:hover {\n",
       "      background-color: #E2EBFA;\n",
       "      box-shadow: 0px 1px 2px rgba(60, 64, 67, 0.3), 0px 1px 3px 1px rgba(60, 64, 67, 0.15);\n",
       "      fill: #174EA6;\n",
       "    }\n",
       "\n",
       "    [theme=dark] .colab-df-convert {\n",
       "      background-color: #3B4455;\n",
       "      fill: #D2E3FC;\n",
       "    }\n",
       "\n",
       "    [theme=dark] .colab-df-convert:hover {\n",
       "      background-color: #434B5C;\n",
       "      box-shadow: 0px 1px 3px 1px rgba(0, 0, 0, 0.15);\n",
       "      filter: drop-shadow(0px 1px 2px rgba(0, 0, 0, 0.3));\n",
       "      fill: #FFFFFF;\n",
       "    }\n",
       "  </style>\n",
       "\n",
       "      <script>\n",
       "        const buttonEl =\n",
       "          document.querySelector('#df-1769fc11-6cb4-45fd-b1ac-e0e8b3c63de4 button.colab-df-convert');\n",
       "        buttonEl.style.display =\n",
       "          google.colab.kernel.accessAllowed ? 'block' : 'none';\n",
       "\n",
       "        async function convertToInteractive(key) {\n",
       "          const element = document.querySelector('#df-1769fc11-6cb4-45fd-b1ac-e0e8b3c63de4');\n",
       "          const dataTable =\n",
       "            await google.colab.kernel.invokeFunction('convertToInteractive',\n",
       "                                                     [key], {});\n",
       "          if (!dataTable) return;\n",
       "\n",
       "          const docLinkHtml = 'Like what you see? Visit the ' +\n",
       "            '<a target=\"_blank\" href=https://colab.research.google.com/notebooks/data_table.ipynb>data table notebook</a>'\n",
       "            + ' to learn more about interactive tables.';\n",
       "          element.innerHTML = '';\n",
       "          dataTable['output_type'] = 'display_data';\n",
       "          await google.colab.output.renderOutput(dataTable, element);\n",
       "          const docLink = document.createElement('div');\n",
       "          docLink.innerHTML = docLinkHtml;\n",
       "          element.appendChild(docLink);\n",
       "        }\n",
       "      </script>\n",
       "    </div>\n",
       "  </div>\n",
       "  "
      ],
      "text/plain": [
       "   longitude  latitude  housing_median_age  total_rooms  total_bedrooms  \\\n",
       "0    -114.31     34.19                15.0       5612.0          1283.0   \n",
       "1    -114.47     34.40                19.0       7650.0          1901.0   \n",
       "2    -114.56     33.69                17.0        720.0           174.0   \n",
       "3    -114.57     33.64                14.0       1501.0           337.0   \n",
       "4    -114.57     33.57                20.0       1454.0           326.0   \n",
       "\n",
       "   population  households  median_income  median_house_value    D_sch1  \\\n",
       "0      1015.0       472.0         1.4936             66900.0  8.449402   \n",
       "1      1129.0       463.0         1.8200             80100.0  8.222877   \n",
       "2       333.0       117.0         1.6509             85700.0  8.425847   \n",
       "3       515.0       226.0         3.1917             73400.0  8.438963   \n",
       "4       624.0       262.0         1.9250             65500.0  8.470301   \n",
       "\n",
       "     D_sch2  \n",
       "0  4.185511  \n",
       "1  4.050309  \n",
       "2  3.922499  \n",
       "3  3.914614  \n",
       "4  3.918635  "
      ]
     },
     "execution_count": 8,
     "metadata": {},
     "output_type": "execute_result"
    }
   ],
   "source": [
    "houses.head()"
   ]
  },
  {
   "cell_type": "code",
   "execution_count": 9,
   "metadata": {
    "colab": {
     "base_uri": "https://localhost:8080/",
     "height": 206
    },
    "executionInfo": {
     "elapsed": 4,
     "status": "ok",
     "timestamp": 1667851276597,
     "user": {
      "displayName": "David Henriques",
      "userId": "12666549553310163307"
     },
     "user_tz": 0
    },
    "id": "C4IM0e9MIbrt",
    "outputId": "61a0f396-3394-49ef-c8ec-c548190ebf39"
   },
   "outputs": [
    {
     "data": {
      "text/html": [
       "\n",
       "  <div id=\"df-cd102e25-9081-4bc1-9b69-c8c0f2b9a147\">\n",
       "    <div class=\"colab-df-container\">\n",
       "      <div>\n",
       "<style scoped>\n",
       "    .dataframe tbody tr th:only-of-type {\n",
       "        vertical-align: middle;\n",
       "    }\n",
       "\n",
       "    .dataframe tbody tr th {\n",
       "        vertical-align: top;\n",
       "    }\n",
       "\n",
       "    .dataframe thead th {\n",
       "        text-align: right;\n",
       "    }\n",
       "</style>\n",
       "<table border=\"1\" class=\"dataframe\">\n",
       "  <thead>\n",
       "    <tr style=\"text-align: right;\">\n",
       "      <th></th>\n",
       "      <th>longitude</th>\n",
       "      <th>latitude</th>\n",
       "      <th>housing_median_age</th>\n",
       "      <th>total_rooms</th>\n",
       "      <th>total_bedrooms</th>\n",
       "      <th>population</th>\n",
       "      <th>households</th>\n",
       "      <th>median_income</th>\n",
       "      <th>median_house_value</th>\n",
       "      <th>D_sch1</th>\n",
       "      <th>D_sch2</th>\n",
       "      <th>distance_to_school</th>\n",
       "    </tr>\n",
       "  </thead>\n",
       "  <tbody>\n",
       "    <tr>\n",
       "      <th>0</th>\n",
       "      <td>-114.31</td>\n",
       "      <td>34.19</td>\n",
       "      <td>15.0</td>\n",
       "      <td>5612.0</td>\n",
       "      <td>1283.0</td>\n",
       "      <td>1015.0</td>\n",
       "      <td>472.0</td>\n",
       "      <td>1.4936</td>\n",
       "      <td>66900.0</td>\n",
       "      <td>8.449402</td>\n",
       "      <td>4.185511</td>\n",
       "      <td>4.185511</td>\n",
       "    </tr>\n",
       "    <tr>\n",
       "      <th>1</th>\n",
       "      <td>-114.47</td>\n",
       "      <td>34.40</td>\n",
       "      <td>19.0</td>\n",
       "      <td>7650.0</td>\n",
       "      <td>1901.0</td>\n",
       "      <td>1129.0</td>\n",
       "      <td>463.0</td>\n",
       "      <td>1.8200</td>\n",
       "      <td>80100.0</td>\n",
       "      <td>8.222877</td>\n",
       "      <td>4.050309</td>\n",
       "      <td>4.050309</td>\n",
       "    </tr>\n",
       "    <tr>\n",
       "      <th>2</th>\n",
       "      <td>-114.56</td>\n",
       "      <td>33.69</td>\n",
       "      <td>17.0</td>\n",
       "      <td>720.0</td>\n",
       "      <td>174.0</td>\n",
       "      <td>333.0</td>\n",
       "      <td>117.0</td>\n",
       "      <td>1.6509</td>\n",
       "      <td>85700.0</td>\n",
       "      <td>8.425847</td>\n",
       "      <td>3.922499</td>\n",
       "      <td>3.922499</td>\n",
       "    </tr>\n",
       "    <tr>\n",
       "      <th>3</th>\n",
       "      <td>-114.57</td>\n",
       "      <td>33.64</td>\n",
       "      <td>14.0</td>\n",
       "      <td>1501.0</td>\n",
       "      <td>337.0</td>\n",
       "      <td>515.0</td>\n",
       "      <td>226.0</td>\n",
       "      <td>3.1917</td>\n",
       "      <td>73400.0</td>\n",
       "      <td>8.438963</td>\n",
       "      <td>3.914614</td>\n",
       "      <td>3.914614</td>\n",
       "    </tr>\n",
       "    <tr>\n",
       "      <th>4</th>\n",
       "      <td>-114.57</td>\n",
       "      <td>33.57</td>\n",
       "      <td>20.0</td>\n",
       "      <td>1454.0</td>\n",
       "      <td>326.0</td>\n",
       "      <td>624.0</td>\n",
       "      <td>262.0</td>\n",
       "      <td>1.9250</td>\n",
       "      <td>65500.0</td>\n",
       "      <td>8.470301</td>\n",
       "      <td>3.918635</td>\n",
       "      <td>3.918635</td>\n",
       "    </tr>\n",
       "  </tbody>\n",
       "</table>\n",
       "</div>\n",
       "      <button class=\"colab-df-convert\" onclick=\"convertToInteractive('df-cd102e25-9081-4bc1-9b69-c8c0f2b9a147')\"\n",
       "              title=\"Convert this dataframe to an interactive table.\"\n",
       "              style=\"display:none;\">\n",
       "        \n",
       "  <svg xmlns=\"http://www.w3.org/2000/svg\" height=\"24px\"viewBox=\"0 0 24 24\"\n",
       "       width=\"24px\">\n",
       "    <path d=\"M0 0h24v24H0V0z\" fill=\"none\"/>\n",
       "    <path d=\"M18.56 5.44l.94 2.06.94-2.06 2.06-.94-2.06-.94-.94-2.06-.94 2.06-2.06.94zm-11 1L8.5 8.5l.94-2.06 2.06-.94-2.06-.94L8.5 2.5l-.94 2.06-2.06.94zm10 10l.94 2.06.94-2.06 2.06-.94-2.06-.94-.94-2.06-.94 2.06-2.06.94z\"/><path d=\"M17.41 7.96l-1.37-1.37c-.4-.4-.92-.59-1.43-.59-.52 0-1.04.2-1.43.59L10.3 9.45l-7.72 7.72c-.78.78-.78 2.05 0 2.83L4 21.41c.39.39.9.59 1.41.59.51 0 1.02-.2 1.41-.59l7.78-7.78 2.81-2.81c.8-.78.8-2.07 0-2.86zM5.41 20L4 18.59l7.72-7.72 1.47 1.35L5.41 20z\"/>\n",
       "  </svg>\n",
       "      </button>\n",
       "      \n",
       "  <style>\n",
       "    .colab-df-container {\n",
       "      display:flex;\n",
       "      flex-wrap:wrap;\n",
       "      gap: 12px;\n",
       "    }\n",
       "\n",
       "    .colab-df-convert {\n",
       "      background-color: #E8F0FE;\n",
       "      border: none;\n",
       "      border-radius: 50%;\n",
       "      cursor: pointer;\n",
       "      display: none;\n",
       "      fill: #1967D2;\n",
       "      height: 32px;\n",
       "      padding: 0 0 0 0;\n",
       "      width: 32px;\n",
       "    }\n",
       "\n",
       "    .colab-df-convert:hover {\n",
       "      background-color: #E2EBFA;\n",
       "      box-shadow: 0px 1px 2px rgba(60, 64, 67, 0.3), 0px 1px 3px 1px rgba(60, 64, 67, 0.15);\n",
       "      fill: #174EA6;\n",
       "    }\n",
       "\n",
       "    [theme=dark] .colab-df-convert {\n",
       "      background-color: #3B4455;\n",
       "      fill: #D2E3FC;\n",
       "    }\n",
       "\n",
       "    [theme=dark] .colab-df-convert:hover {\n",
       "      background-color: #434B5C;\n",
       "      box-shadow: 0px 1px 3px 1px rgba(0, 0, 0, 0.15);\n",
       "      filter: drop-shadow(0px 1px 2px rgba(0, 0, 0, 0.3));\n",
       "      fill: #FFFFFF;\n",
       "    }\n",
       "  </style>\n",
       "\n",
       "      <script>\n",
       "        const buttonEl =\n",
       "          document.querySelector('#df-cd102e25-9081-4bc1-9b69-c8c0f2b9a147 button.colab-df-convert');\n",
       "        buttonEl.style.display =\n",
       "          google.colab.kernel.accessAllowed ? 'block' : 'none';\n",
       "\n",
       "        async function convertToInteractive(key) {\n",
       "          const element = document.querySelector('#df-cd102e25-9081-4bc1-9b69-c8c0f2b9a147');\n",
       "          const dataTable =\n",
       "            await google.colab.kernel.invokeFunction('convertToInteractive',\n",
       "                                                     [key], {});\n",
       "          if (!dataTable) return;\n",
       "\n",
       "          const docLinkHtml = 'Like what you see? Visit the ' +\n",
       "            '<a target=\"_blank\" href=https://colab.research.google.com/notebooks/data_table.ipynb>data table notebook</a>'\n",
       "            + ' to learn more about interactive tables.';\n",
       "          element.innerHTML = '';\n",
       "          dataTable['output_type'] = 'display_data';\n",
       "          await google.colab.output.renderOutput(dataTable, element);\n",
       "          const docLink = document.createElement('div');\n",
       "          docLink.innerHTML = docLinkHtml;\n",
       "          element.appendChild(docLink);\n",
       "        }\n",
       "      </script>\n",
       "    </div>\n",
       "  </div>\n",
       "  "
      ],
      "text/plain": [
       "   longitude  latitude  housing_median_age  total_rooms  total_bedrooms  \\\n",
       "0    -114.31     34.19                15.0       5612.0          1283.0   \n",
       "1    -114.47     34.40                19.0       7650.0          1901.0   \n",
       "2    -114.56     33.69                17.0        720.0           174.0   \n",
       "3    -114.57     33.64                14.0       1501.0           337.0   \n",
       "4    -114.57     33.57                20.0       1454.0           326.0   \n",
       "\n",
       "   population  households  median_income  median_house_value    D_sch1  \\\n",
       "0      1015.0       472.0         1.4936             66900.0  8.449402   \n",
       "1      1129.0       463.0         1.8200             80100.0  8.222877   \n",
       "2       333.0       117.0         1.6509             85700.0  8.425847   \n",
       "3       515.0       226.0         3.1917             73400.0  8.438963   \n",
       "4       624.0       262.0         1.9250             65500.0  8.470301   \n",
       "\n",
       "     D_sch2  distance_to_school  \n",
       "0  4.185511            4.185511  \n",
       "1  4.050309            4.050309  \n",
       "2  3.922499            3.922499  \n",
       "3  3.914614            3.914614  \n",
       "4  3.918635            3.918635  "
      ]
     },
     "execution_count": 9,
     "metadata": {},
     "output_type": "execute_result"
    }
   ],
   "source": [
    "houses['distance_to_school'] = houses[['D_sch1','D_sch2']].apply(min,axis=1)\n",
    "houses.head()"
   ]
  },
  {
   "cell_type": "code",
   "execution_count": 10,
   "metadata": {
    "colab": {
     "base_uri": "https://localhost:8080/",
     "height": 206
    },
    "executionInfo": {
     "elapsed": 6,
     "status": "ok",
     "timestamp": 1667851277858,
     "user": {
      "displayName": "David Henriques",
      "userId": "12666549553310163307"
     },
     "user_tz": 0
    },
    "id": "PdcNJpgWI6fD",
    "outputId": "53f27c6e-daae-4eb3-e346-18a11865712f"
   },
   "outputs": [
    {
     "data": {
      "text/html": [
       "\n",
       "  <div id=\"df-6a51d80e-3271-49bc-adde-0914ec948157\">\n",
       "    <div class=\"colab-df-container\">\n",
       "      <div>\n",
       "<style scoped>\n",
       "    .dataframe tbody tr th:only-of-type {\n",
       "        vertical-align: middle;\n",
       "    }\n",
       "\n",
       "    .dataframe tbody tr th {\n",
       "        vertical-align: top;\n",
       "    }\n",
       "\n",
       "    .dataframe thead th {\n",
       "        text-align: right;\n",
       "    }\n",
       "</style>\n",
       "<table border=\"1\" class=\"dataframe\">\n",
       "  <thead>\n",
       "    <tr style=\"text-align: right;\">\n",
       "      <th></th>\n",
       "      <th>longitude</th>\n",
       "      <th>latitude</th>\n",
       "      <th>housing_median_age</th>\n",
       "      <th>total_rooms</th>\n",
       "      <th>total_bedrooms</th>\n",
       "      <th>population</th>\n",
       "      <th>households</th>\n",
       "      <th>median_income</th>\n",
       "      <th>median_house_value</th>\n",
       "      <th>D_sch1</th>\n",
       "      <th>D_sch2</th>\n",
       "      <th>distance_to_school</th>\n",
       "      <th>close_to_school?</th>\n",
       "    </tr>\n",
       "  </thead>\n",
       "  <tbody>\n",
       "    <tr>\n",
       "      <th>0</th>\n",
       "      <td>-114.31</td>\n",
       "      <td>34.19</td>\n",
       "      <td>15.0</td>\n",
       "      <td>5612.0</td>\n",
       "      <td>1283.0</td>\n",
       "      <td>1015.0</td>\n",
       "      <td>472.0</td>\n",
       "      <td>1.4936</td>\n",
       "      <td>66900.0</td>\n",
       "      <td>8.449402</td>\n",
       "      <td>4.185511</td>\n",
       "      <td>4.185511</td>\n",
       "      <td>False</td>\n",
       "    </tr>\n",
       "    <tr>\n",
       "      <th>1</th>\n",
       "      <td>-114.47</td>\n",
       "      <td>34.40</td>\n",
       "      <td>19.0</td>\n",
       "      <td>7650.0</td>\n",
       "      <td>1901.0</td>\n",
       "      <td>1129.0</td>\n",
       "      <td>463.0</td>\n",
       "      <td>1.8200</td>\n",
       "      <td>80100.0</td>\n",
       "      <td>8.222877</td>\n",
       "      <td>4.050309</td>\n",
       "      <td>4.050309</td>\n",
       "      <td>False</td>\n",
       "    </tr>\n",
       "    <tr>\n",
       "      <th>2</th>\n",
       "      <td>-114.56</td>\n",
       "      <td>33.69</td>\n",
       "      <td>17.0</td>\n",
       "      <td>720.0</td>\n",
       "      <td>174.0</td>\n",
       "      <td>333.0</td>\n",
       "      <td>117.0</td>\n",
       "      <td>1.6509</td>\n",
       "      <td>85700.0</td>\n",
       "      <td>8.425847</td>\n",
       "      <td>3.922499</td>\n",
       "      <td>3.922499</td>\n",
       "      <td>False</td>\n",
       "    </tr>\n",
       "    <tr>\n",
       "      <th>3</th>\n",
       "      <td>-114.57</td>\n",
       "      <td>33.64</td>\n",
       "      <td>14.0</td>\n",
       "      <td>1501.0</td>\n",
       "      <td>337.0</td>\n",
       "      <td>515.0</td>\n",
       "      <td>226.0</td>\n",
       "      <td>3.1917</td>\n",
       "      <td>73400.0</td>\n",
       "      <td>8.438963</td>\n",
       "      <td>3.914614</td>\n",
       "      <td>3.914614</td>\n",
       "      <td>False</td>\n",
       "    </tr>\n",
       "    <tr>\n",
       "      <th>4</th>\n",
       "      <td>-114.57</td>\n",
       "      <td>33.57</td>\n",
       "      <td>20.0</td>\n",
       "      <td>1454.0</td>\n",
       "      <td>326.0</td>\n",
       "      <td>624.0</td>\n",
       "      <td>262.0</td>\n",
       "      <td>1.9250</td>\n",
       "      <td>65500.0</td>\n",
       "      <td>8.470301</td>\n",
       "      <td>3.918635</td>\n",
       "      <td>3.918635</td>\n",
       "      <td>False</td>\n",
       "    </tr>\n",
       "  </tbody>\n",
       "</table>\n",
       "</div>\n",
       "      <button class=\"colab-df-convert\" onclick=\"convertToInteractive('df-6a51d80e-3271-49bc-adde-0914ec948157')\"\n",
       "              title=\"Convert this dataframe to an interactive table.\"\n",
       "              style=\"display:none;\">\n",
       "        \n",
       "  <svg xmlns=\"http://www.w3.org/2000/svg\" height=\"24px\"viewBox=\"0 0 24 24\"\n",
       "       width=\"24px\">\n",
       "    <path d=\"M0 0h24v24H0V0z\" fill=\"none\"/>\n",
       "    <path d=\"M18.56 5.44l.94 2.06.94-2.06 2.06-.94-2.06-.94-.94-2.06-.94 2.06-2.06.94zm-11 1L8.5 8.5l.94-2.06 2.06-.94-2.06-.94L8.5 2.5l-.94 2.06-2.06.94zm10 10l.94 2.06.94-2.06 2.06-.94-2.06-.94-.94-2.06-.94 2.06-2.06.94z\"/><path d=\"M17.41 7.96l-1.37-1.37c-.4-.4-.92-.59-1.43-.59-.52 0-1.04.2-1.43.59L10.3 9.45l-7.72 7.72c-.78.78-.78 2.05 0 2.83L4 21.41c.39.39.9.59 1.41.59.51 0 1.02-.2 1.41-.59l7.78-7.78 2.81-2.81c.8-.78.8-2.07 0-2.86zM5.41 20L4 18.59l7.72-7.72 1.47 1.35L5.41 20z\"/>\n",
       "  </svg>\n",
       "      </button>\n",
       "      \n",
       "  <style>\n",
       "    .colab-df-container {\n",
       "      display:flex;\n",
       "      flex-wrap:wrap;\n",
       "      gap: 12px;\n",
       "    }\n",
       "\n",
       "    .colab-df-convert {\n",
       "      background-color: #E8F0FE;\n",
       "      border: none;\n",
       "      border-radius: 50%;\n",
       "      cursor: pointer;\n",
       "      display: none;\n",
       "      fill: #1967D2;\n",
       "      height: 32px;\n",
       "      padding: 0 0 0 0;\n",
       "      width: 32px;\n",
       "    }\n",
       "\n",
       "    .colab-df-convert:hover {\n",
       "      background-color: #E2EBFA;\n",
       "      box-shadow: 0px 1px 2px rgba(60, 64, 67, 0.3), 0px 1px 3px 1px rgba(60, 64, 67, 0.15);\n",
       "      fill: #174EA6;\n",
       "    }\n",
       "\n",
       "    [theme=dark] .colab-df-convert {\n",
       "      background-color: #3B4455;\n",
       "      fill: #D2E3FC;\n",
       "    }\n",
       "\n",
       "    [theme=dark] .colab-df-convert:hover {\n",
       "      background-color: #434B5C;\n",
       "      box-shadow: 0px 1px 3px 1px rgba(0, 0, 0, 0.15);\n",
       "      filter: drop-shadow(0px 1px 2px rgba(0, 0, 0, 0.3));\n",
       "      fill: #FFFFFF;\n",
       "    }\n",
       "  </style>\n",
       "\n",
       "      <script>\n",
       "        const buttonEl =\n",
       "          document.querySelector('#df-6a51d80e-3271-49bc-adde-0914ec948157 button.colab-df-convert');\n",
       "        buttonEl.style.display =\n",
       "          google.colab.kernel.accessAllowed ? 'block' : 'none';\n",
       "\n",
       "        async function convertToInteractive(key) {\n",
       "          const element = document.querySelector('#df-6a51d80e-3271-49bc-adde-0914ec948157');\n",
       "          const dataTable =\n",
       "            await google.colab.kernel.invokeFunction('convertToInteractive',\n",
       "                                                     [key], {});\n",
       "          if (!dataTable) return;\n",
       "\n",
       "          const docLinkHtml = 'Like what you see? Visit the ' +\n",
       "            '<a target=\"_blank\" href=https://colab.research.google.com/notebooks/data_table.ipynb>data table notebook</a>'\n",
       "            + ' to learn more about interactive tables.';\n",
       "          element.innerHTML = '';\n",
       "          dataTable['output_type'] = 'display_data';\n",
       "          await google.colab.output.renderOutput(dataTable, element);\n",
       "          const docLink = document.createElement('div');\n",
       "          docLink.innerHTML = docLinkHtml;\n",
       "          element.appendChild(docLink);\n",
       "        }\n",
       "      </script>\n",
       "    </div>\n",
       "  </div>\n",
       "  "
      ],
      "text/plain": [
       "   longitude  latitude  housing_median_age  total_rooms  total_bedrooms  \\\n",
       "0    -114.31     34.19                15.0       5612.0          1283.0   \n",
       "1    -114.47     34.40                19.0       7650.0          1901.0   \n",
       "2    -114.56     33.69                17.0        720.0           174.0   \n",
       "3    -114.57     33.64                14.0       1501.0           337.0   \n",
       "4    -114.57     33.57                20.0       1454.0           326.0   \n",
       "\n",
       "   population  households  median_income  median_house_value    D_sch1  \\\n",
       "0      1015.0       472.0         1.4936             66900.0  8.449402   \n",
       "1      1129.0       463.0         1.8200             80100.0  8.222877   \n",
       "2       333.0       117.0         1.6509             85700.0  8.425847   \n",
       "3       515.0       226.0         3.1917             73400.0  8.438963   \n",
       "4       624.0       262.0         1.9250             65500.0  8.470301   \n",
       "\n",
       "     D_sch2  distance_to_school  close_to_school?  \n",
       "0  4.185511            4.185511             False  \n",
       "1  4.050309            4.050309             False  \n",
       "2  3.922499            3.922499             False  \n",
       "3  3.914614            3.914614             False  \n",
       "4  3.918635            3.918635             False  "
      ]
     },
     "execution_count": 10,
     "metadata": {},
     "output_type": "execute_result"
    }
   ],
   "source": [
    "houses['close_to_school?'] = houses['distance_to_school']<0.5\n",
    "houses.head()"
   ]
  },
  {
   "cell_type": "code",
   "execution_count": 11,
   "metadata": {
    "colab": {
     "base_uri": "https://localhost:8080/",
     "height": 143
    },
    "executionInfo": {
     "elapsed": 5,
     "status": "ok",
     "timestamp": 1667851278668,
     "user": {
      "displayName": "David Henriques",
      "userId": "12666549553310163307"
     },
     "user_tz": 0
    },
    "id": "F_wMQAIVmGeg",
    "outputId": "7771b710-1072-4197-84e2-00bc05978522"
   },
   "outputs": [
    {
     "data": {
      "text/html": [
       "\n",
       "  <div id=\"df-93e7a90c-325f-4e05-8121-c0acfefefad1\">\n",
       "    <div class=\"colab-df-container\">\n",
       "      <div>\n",
       "<style scoped>\n",
       "    .dataframe tbody tr th:only-of-type {\n",
       "        vertical-align: middle;\n",
       "    }\n",
       "\n",
       "    .dataframe tbody tr th {\n",
       "        vertical-align: top;\n",
       "    }\n",
       "\n",
       "    .dataframe thead th {\n",
       "        text-align: right;\n",
       "    }\n",
       "</style>\n",
       "<table border=\"1\" class=\"dataframe\">\n",
       "  <thead>\n",
       "    <tr style=\"text-align: right;\">\n",
       "      <th></th>\n",
       "      <th>median_house_value</th>\n",
       "    </tr>\n",
       "    <tr>\n",
       "      <th>close_to_school?</th>\n",
       "      <th></th>\n",
       "    </tr>\n",
       "  </thead>\n",
       "  <tbody>\n",
       "    <tr>\n",
       "      <th>False</th>\n",
       "      <td>173599.349183</td>\n",
       "    </tr>\n",
       "    <tr>\n",
       "      <th>True</th>\n",
       "      <td>258114.259035</td>\n",
       "    </tr>\n",
       "  </tbody>\n",
       "</table>\n",
       "</div>\n",
       "      <button class=\"colab-df-convert\" onclick=\"convertToInteractive('df-93e7a90c-325f-4e05-8121-c0acfefefad1')\"\n",
       "              title=\"Convert this dataframe to an interactive table.\"\n",
       "              style=\"display:none;\">\n",
       "        \n",
       "  <svg xmlns=\"http://www.w3.org/2000/svg\" height=\"24px\"viewBox=\"0 0 24 24\"\n",
       "       width=\"24px\">\n",
       "    <path d=\"M0 0h24v24H0V0z\" fill=\"none\"/>\n",
       "    <path d=\"M18.56 5.44l.94 2.06.94-2.06 2.06-.94-2.06-.94-.94-2.06-.94 2.06-2.06.94zm-11 1L8.5 8.5l.94-2.06 2.06-.94-2.06-.94L8.5 2.5l-.94 2.06-2.06.94zm10 10l.94 2.06.94-2.06 2.06-.94-2.06-.94-.94-2.06-.94 2.06-2.06.94z\"/><path d=\"M17.41 7.96l-1.37-1.37c-.4-.4-.92-.59-1.43-.59-.52 0-1.04.2-1.43.59L10.3 9.45l-7.72 7.72c-.78.78-.78 2.05 0 2.83L4 21.41c.39.39.9.59 1.41.59.51 0 1.02-.2 1.41-.59l7.78-7.78 2.81-2.81c.8-.78.8-2.07 0-2.86zM5.41 20L4 18.59l7.72-7.72 1.47 1.35L5.41 20z\"/>\n",
       "  </svg>\n",
       "      </button>\n",
       "      \n",
       "  <style>\n",
       "    .colab-df-container {\n",
       "      display:flex;\n",
       "      flex-wrap:wrap;\n",
       "      gap: 12px;\n",
       "    }\n",
       "\n",
       "    .colab-df-convert {\n",
       "      background-color: #E8F0FE;\n",
       "      border: none;\n",
       "      border-radius: 50%;\n",
       "      cursor: pointer;\n",
       "      display: none;\n",
       "      fill: #1967D2;\n",
       "      height: 32px;\n",
       "      padding: 0 0 0 0;\n",
       "      width: 32px;\n",
       "    }\n",
       "\n",
       "    .colab-df-convert:hover {\n",
       "      background-color: #E2EBFA;\n",
       "      box-shadow: 0px 1px 2px rgba(60, 64, 67, 0.3), 0px 1px 3px 1px rgba(60, 64, 67, 0.15);\n",
       "      fill: #174EA6;\n",
       "    }\n",
       "\n",
       "    [theme=dark] .colab-df-convert {\n",
       "      background-color: #3B4455;\n",
       "      fill: #D2E3FC;\n",
       "    }\n",
       "\n",
       "    [theme=dark] .colab-df-convert:hover {\n",
       "      background-color: #434B5C;\n",
       "      box-shadow: 0px 1px 3px 1px rgba(0, 0, 0, 0.15);\n",
       "      filter: drop-shadow(0px 1px 2px rgba(0, 0, 0, 0.3));\n",
       "      fill: #FFFFFF;\n",
       "    }\n",
       "  </style>\n",
       "\n",
       "      <script>\n",
       "        const buttonEl =\n",
       "          document.querySelector('#df-93e7a90c-325f-4e05-8121-c0acfefefad1 button.colab-df-convert');\n",
       "        buttonEl.style.display =\n",
       "          google.colab.kernel.accessAllowed ? 'block' : 'none';\n",
       "\n",
       "        async function convertToInteractive(key) {\n",
       "          const element = document.querySelector('#df-93e7a90c-325f-4e05-8121-c0acfefefad1');\n",
       "          const dataTable =\n",
       "            await google.colab.kernel.invokeFunction('convertToInteractive',\n",
       "                                                     [key], {});\n",
       "          if (!dataTable) return;\n",
       "\n",
       "          const docLinkHtml = 'Like what you see? Visit the ' +\n",
       "            '<a target=\"_blank\" href=https://colab.research.google.com/notebooks/data_table.ipynb>data table notebook</a>'\n",
       "            + ' to learn more about interactive tables.';\n",
       "          element.innerHTML = '';\n",
       "          dataTable['output_type'] = 'display_data';\n",
       "          await google.colab.output.renderOutput(dataTable, element);\n",
       "          const docLink = document.createElement('div');\n",
       "          docLink.innerHTML = docLinkHtml;\n",
       "          element.appendChild(docLink);\n",
       "        }\n",
       "      </script>\n",
       "    </div>\n",
       "  </div>\n",
       "  "
      ],
      "text/plain": [
       "                  median_house_value\n",
       "close_to_school?                    \n",
       "False                  173599.349183\n",
       "True                   258114.259035"
      ]
     },
     "execution_count": 11,
     "metadata": {},
     "output_type": "execute_result"
    }
   ],
   "source": [
    "houses.groupby('close_to_school?').agg({'median_house_value':'mean'})"
   ]
  },
  {
   "cell_type": "code",
   "execution_count": null,
   "metadata": {
    "id": "uEFrXEjBmGht"
   },
   "outputs": [],
   "source": []
  },
  {
   "cell_type": "code",
   "execution_count": null,
   "metadata": {
    "id": "h_VRjN0wkr0n"
   },
   "outputs": [],
   "source": [
    "##################### NEW CONTENT #####################"
   ]
  },
  {
   "cell_type": "code",
   "execution_count": 12,
   "metadata": {
    "colab": {
     "base_uri": "https://localhost:8080/",
     "height": 241
    },
    "executionInfo": {
     "elapsed": 274,
     "status": "ok",
     "timestamp": 1667851284704,
     "user": {
      "displayName": "David Henriques",
      "userId": "12666549553310163307"
     },
     "user_tz": 0
    },
    "id": "aw3L_ONgjKMO",
    "outputId": "fee935b9-9f2b-4314-846a-998d00f1fba0"
   },
   "outputs": [
    {
     "data": {
      "text/html": [
       "\n",
       "  <div id=\"df-bc61aea9-152f-4470-a664-527c7626f358\">\n",
       "    <div class=\"colab-df-container\">\n",
       "      <div>\n",
       "<style scoped>\n",
       "    .dataframe tbody tr th:only-of-type {\n",
       "        vertical-align: middle;\n",
       "    }\n",
       "\n",
       "    .dataframe tbody tr th {\n",
       "        vertical-align: top;\n",
       "    }\n",
       "\n",
       "    .dataframe thead th {\n",
       "        text-align: right;\n",
       "    }\n",
       "</style>\n",
       "<table border=\"1\" class=\"dataframe\">\n",
       "  <thead>\n",
       "    <tr style=\"text-align: right;\">\n",
       "      <th></th>\n",
       "      <th>longitude</th>\n",
       "      <th>latitude</th>\n",
       "      <th>housing_median_age</th>\n",
       "      <th>total_rooms</th>\n",
       "      <th>total_bedrooms</th>\n",
       "      <th>population</th>\n",
       "      <th>households</th>\n",
       "      <th>median_income</th>\n",
       "      <th>median_house_value</th>\n",
       "      <th>D_sch1</th>\n",
       "      <th>D_sch2</th>\n",
       "      <th>distance_to_school</th>\n",
       "      <th>close_to_school?</th>\n",
       "    </tr>\n",
       "  </thead>\n",
       "  <tbody>\n",
       "    <tr>\n",
       "      <th>13056</th>\n",
       "      <td>-121.87</td>\n",
       "      <td>37.43</td>\n",
       "      <td>22.0</td>\n",
       "      <td>3805.0</td>\n",
       "      <td>596.0</td>\n",
       "      <td>2118.0</td>\n",
       "      <td>621.0</td>\n",
       "      <td>6.2892</td>\n",
       "      <td>254200.0</td>\n",
       "      <td>0.263059</td>\n",
       "      <td>4.944906</td>\n",
       "      <td>0.263059</td>\n",
       "      <td>True</td>\n",
       "    </tr>\n",
       "    <tr>\n",
       "      <th>14455</th>\n",
       "      <td>-122.13</td>\n",
       "      <td>37.67</td>\n",
       "      <td>38.0</td>\n",
       "      <td>2012.0</td>\n",
       "      <td>347.0</td>\n",
       "      <td>880.0</td>\n",
       "      <td>332.0</td>\n",
       "      <td>3.1734</td>\n",
       "      <td>181600.0</td>\n",
       "      <td>0.280000</td>\n",
       "      <td>5.297934</td>\n",
       "      <td>0.280000</td>\n",
       "      <td>True</td>\n",
       "    </tr>\n",
       "    <tr>\n",
       "      <th>8109</th>\n",
       "      <td>-118.43</td>\n",
       "      <td>34.24</td>\n",
       "      <td>36.0</td>\n",
       "      <td>1488.0</td>\n",
       "      <td>313.0</td>\n",
       "      <td>1221.0</td>\n",
       "      <td>296.0</td>\n",
       "      <td>4.0208</td>\n",
       "      <td>171400.0</td>\n",
       "      <td>4.859269</td>\n",
       "      <td>0.413038</td>\n",
       "      <td>0.413038</td>\n",
       "      <td>True</td>\n",
       "    </tr>\n",
       "    <tr>\n",
       "      <th>14783</th>\n",
       "      <td>-122.20</td>\n",
       "      <td>37.75</td>\n",
       "      <td>36.0</td>\n",
       "      <td>606.0</td>\n",
       "      <td>132.0</td>\n",
       "      <td>531.0</td>\n",
       "      <td>133.0</td>\n",
       "      <td>1.5809</td>\n",
       "      <td>70000.0</td>\n",
       "      <td>0.366742</td>\n",
       "      <td>5.404147</td>\n",
       "      <td>0.366742</td>\n",
       "      <td>True</td>\n",
       "    </tr>\n",
       "    <tr>\n",
       "      <th>7696</th>\n",
       "      <td>-118.38</td>\n",
       "      <td>34.19</td>\n",
       "      <td>42.0</td>\n",
       "      <td>1308.0</td>\n",
       "      <td>289.0</td>\n",
       "      <td>950.0</td>\n",
       "      <td>302.0</td>\n",
       "      <td>2.7379</td>\n",
       "      <td>181500.0</td>\n",
       "      <td>4.929757</td>\n",
       "      <td>0.373631</td>\n",
       "      <td>0.373631</td>\n",
       "      <td>True</td>\n",
       "    </tr>\n",
       "  </tbody>\n",
       "</table>\n",
       "</div>\n",
       "      <button class=\"colab-df-convert\" onclick=\"convertToInteractive('df-bc61aea9-152f-4470-a664-527c7626f358')\"\n",
       "              title=\"Convert this dataframe to an interactive table.\"\n",
       "              style=\"display:none;\">\n",
       "        \n",
       "  <svg xmlns=\"http://www.w3.org/2000/svg\" height=\"24px\"viewBox=\"0 0 24 24\"\n",
       "       width=\"24px\">\n",
       "    <path d=\"M0 0h24v24H0V0z\" fill=\"none\"/>\n",
       "    <path d=\"M18.56 5.44l.94 2.06.94-2.06 2.06-.94-2.06-.94-.94-2.06-.94 2.06-2.06.94zm-11 1L8.5 8.5l.94-2.06 2.06-.94-2.06-.94L8.5 2.5l-.94 2.06-2.06.94zm10 10l.94 2.06.94-2.06 2.06-.94-2.06-.94-.94-2.06-.94 2.06-2.06.94z\"/><path d=\"M17.41 7.96l-1.37-1.37c-.4-.4-.92-.59-1.43-.59-.52 0-1.04.2-1.43.59L10.3 9.45l-7.72 7.72c-.78.78-.78 2.05 0 2.83L4 21.41c.39.39.9.59 1.41.59.51 0 1.02-.2 1.41-.59l7.78-7.78 2.81-2.81c.8-.78.8-2.07 0-2.86zM5.41 20L4 18.59l7.72-7.72 1.47 1.35L5.41 20z\"/>\n",
       "  </svg>\n",
       "      </button>\n",
       "      \n",
       "  <style>\n",
       "    .colab-df-container {\n",
       "      display:flex;\n",
       "      flex-wrap:wrap;\n",
       "      gap: 12px;\n",
       "    }\n",
       "\n",
       "    .colab-df-convert {\n",
       "      background-color: #E8F0FE;\n",
       "      border: none;\n",
       "      border-radius: 50%;\n",
       "      cursor: pointer;\n",
       "      display: none;\n",
       "      fill: #1967D2;\n",
       "      height: 32px;\n",
       "      padding: 0 0 0 0;\n",
       "      width: 32px;\n",
       "    }\n",
       "\n",
       "    .colab-df-convert:hover {\n",
       "      background-color: #E2EBFA;\n",
       "      box-shadow: 0px 1px 2px rgba(60, 64, 67, 0.3), 0px 1px 3px 1px rgba(60, 64, 67, 0.15);\n",
       "      fill: #174EA6;\n",
       "    }\n",
       "\n",
       "    [theme=dark] .colab-df-convert {\n",
       "      background-color: #3B4455;\n",
       "      fill: #D2E3FC;\n",
       "    }\n",
       "\n",
       "    [theme=dark] .colab-df-convert:hover {\n",
       "      background-color: #434B5C;\n",
       "      box-shadow: 0px 1px 3px 1px rgba(0, 0, 0, 0.15);\n",
       "      filter: drop-shadow(0px 1px 2px rgba(0, 0, 0, 0.3));\n",
       "      fill: #FFFFFF;\n",
       "    }\n",
       "  </style>\n",
       "\n",
       "      <script>\n",
       "        const buttonEl =\n",
       "          document.querySelector('#df-bc61aea9-152f-4470-a664-527c7626f358 button.colab-df-convert');\n",
       "        buttonEl.style.display =\n",
       "          google.colab.kernel.accessAllowed ? 'block' : 'none';\n",
       "\n",
       "        async function convertToInteractive(key) {\n",
       "          const element = document.querySelector('#df-bc61aea9-152f-4470-a664-527c7626f358');\n",
       "          const dataTable =\n",
       "            await google.colab.kernel.invokeFunction('convertToInteractive',\n",
       "                                                     [key], {});\n",
       "          if (!dataTable) return;\n",
       "\n",
       "          const docLinkHtml = 'Like what you see? Visit the ' +\n",
       "            '<a target=\"_blank\" href=https://colab.research.google.com/notebooks/data_table.ipynb>data table notebook</a>'\n",
       "            + ' to learn more about interactive tables.';\n",
       "          element.innerHTML = '';\n",
       "          dataTable['output_type'] = 'display_data';\n",
       "          await google.colab.output.renderOutput(dataTable, element);\n",
       "          const docLink = document.createElement('div');\n",
       "          docLink.innerHTML = docLinkHtml;\n",
       "          element.appendChild(docLink);\n",
       "        }\n",
       "      </script>\n",
       "    </div>\n",
       "  </div>\n",
       "  "
      ],
      "text/plain": [
       "       longitude  latitude  housing_median_age  total_rooms  total_bedrooms  \\\n",
       "13056    -121.87     37.43                22.0       3805.0           596.0   \n",
       "14455    -122.13     37.67                38.0       2012.0           347.0   \n",
       "8109     -118.43     34.24                36.0       1488.0           313.0   \n",
       "14783    -122.20     37.75                36.0        606.0           132.0   \n",
       "7696     -118.38     34.19                42.0       1308.0           289.0   \n",
       "\n",
       "       population  households  median_income  median_house_value    D_sch1  \\\n",
       "13056      2118.0       621.0         6.2892            254200.0  0.263059   \n",
       "14455       880.0       332.0         3.1734            181600.0  0.280000   \n",
       "8109       1221.0       296.0         4.0208            171400.0  4.859269   \n",
       "14783       531.0       133.0         1.5809             70000.0  0.366742   \n",
       "7696        950.0       302.0         2.7379            181500.0  4.929757   \n",
       "\n",
       "         D_sch2  distance_to_school  close_to_school?  \n",
       "13056  4.944906            0.263059              True  \n",
       "14455  5.297934            0.280000              True  \n",
       "8109   0.413038            0.413038              True  \n",
       "14783  5.404147            0.366742              True  \n",
       "7696   0.373631            0.373631              True  "
      ]
     },
     "metadata": {},
     "output_type": "display_data"
    },
    {
     "data": {
      "text/plain": [
       "(49, 13)"
      ]
     },
     "metadata": {},
     "output_type": "display_data"
    },
    {
     "data": {
      "text/plain": [
       "116207.86526912231"
      ]
     },
     "metadata": {},
     "output_type": "display_data"
    }
   ],
   "source": [
    "# Preparation\n",
    "houses_close = houses[houses['close_to_school?']==True]\n",
    "houses_far = houses[houses['close_to_school?']==False]\n",
    "houses_close_sample = houses_close.sample(49)\n",
    "houses_close_std = houses_close['median_house_value'].std()\n",
    "\n",
    "display(houses_close_sample.head())\n",
    "display(houses_close_sample.shape)\n",
    "display(houses_close_std)"
   ]
  },
  {
   "cell_type": "code",
   "execution_count": 12,
   "metadata": {
    "executionInfo": {
     "elapsed": 3,
     "status": "ok",
     "timestamp": 1667851286899,
     "user": {
      "displayName": "David Henriques",
      "userId": "12666549553310163307"
     },
     "user_tz": 0
    },
    "id": "tyuxNPKymHyl"
   },
   "outputs": [],
   "source": []
  },
  {
   "cell_type": "code",
   "execution_count": 12,
   "metadata": {
    "executionInfo": {
     "elapsed": 2,
     "status": "ok",
     "timestamp": 1667851286899,
     "user": {
      "displayName": "David Henriques",
      "userId": "12666549553310163307"
     },
     "user_tz": 0
    },
    "id": "aclGeHeNmH2V"
   },
   "outputs": [],
   "source": []
  },
  {
   "cell_type": "code",
   "execution_count": 13,
   "metadata": {
    "executionInfo": {
     "elapsed": 3,
     "status": "ok",
     "timestamp": 1667851286900,
     "user": {
      "displayName": "David Henriques",
      "userId": "12666549553310163307"
     },
     "user_tz": 0
    },
    "id": "CI8CZzlSmH7-"
   },
   "outputs": [],
   "source": [
    "# Simple interval of confidence 95.5% for prices of houses close to a school  "
   ]
  },
  {
   "cell_type": "code",
   "execution_count": 14,
   "metadata": {
    "executionInfo": {
     "elapsed": 1,
     "status": "ok",
     "timestamp": 1667851287141,
     "user": {
      "displayName": "David Henriques",
      "userId": "12666549553310163307"
     },
     "user_tz": 0
    },
    "id": "i3byPZfgkUg-"
   },
   "outputs": [],
   "source": [
    "# To create our interval at 95.5% confidence we need\n",
    "# 1. The mean of the sample\n",
    "# 2. The number of observation\n",
    "# 3. The std of the original distribution\n",
    "\n",
    "mean = houses_close_sample['median_house_value'].mean()\n",
    "std = houses_close_std\n",
    "n = 49"
   ]
  },
  {
   "cell_type": "code",
   "execution_count": 15,
   "metadata": {
    "colab": {
     "base_uri": "https://localhost:8080/"
    },
    "executionInfo": {
     "elapsed": 1,
     "status": "ok",
     "timestamp": 1667851288663,
     "user": {
      "displayName": "David Henriques",
      "userId": "12666549553310163307"
     },
     "user_tz": 0
    },
    "id": "BkNGJSwmjKWs",
    "outputId": "8e55d23d-03ee-4064-8255-a8bd7d78d533"
   },
   "outputs": [
    {
     "name": "stdout",
     "output_type": "stream",
     "text": [
      "left end:  209799.83441290382\n",
      "right end:  276204.3288524023\n"
     ]
    }
   ],
   "source": [
    "#so we can construct our 95.5% confidence interval\n",
    "\n",
    "print(\"left end: \", mean - 2* (std/np.sqrt(n)))\n",
    "print(\"right end: \", mean + 2* (std/np.sqrt(n)))"
   ]
  },
  {
   "cell_type": "code",
   "execution_count": 16,
   "metadata": {
    "colab": {
     "base_uri": "https://localhost:8080/"
    },
    "executionInfo": {
     "elapsed": 2,
     "status": "ok",
     "timestamp": 1667851289778,
     "user": {
      "displayName": "David Henriques",
      "userId": "12666549553310163307"
     },
     "user_tz": 0
    },
    "id": "gUa7tf-UD14q",
    "outputId": "4610bb54-5cef-4049-8f53-bc2ed6eec0ac"
   },
   "outputs": [
    {
     "data": {
      "text/plain": [
       "(209722.565117804, 276281.5981475021)"
      ]
     },
     "execution_count": 16,
     "metadata": {},
     "output_type": "execute_result"
    }
   ],
   "source": [
    "# And of course python does it for us\n",
    "st.norm.interval(0.955,loc=mean,scale=std/np.sqrt(49))"
   ]
  },
  {
   "cell_type": "code",
   "execution_count": 17,
   "metadata": {
    "executionInfo": {
     "elapsed": 261,
     "status": "ok",
     "timestamp": 1667851290945,
     "user": {
      "displayName": "David Henriques",
      "userId": "12666549553310163307"
     },
     "user_tz": 0
    },
    "id": "rSKTFOXKXFpT"
   },
   "outputs": [],
   "source": [
    "#do it yourself\n",
    "# what if we prefer 99.7% confidence?"
   ]
  },
  {
   "cell_type": "code",
   "execution_count": 18,
   "metadata": {
    "colab": {
     "base_uri": "https://localhost:8080/"
    },
    "executionInfo": {
     "elapsed": 3,
     "status": "ok",
     "timestamp": 1667851290946,
     "user": {
      "displayName": "David Henriques",
      "userId": "12666549553310163307"
     },
     "user_tz": 0
    },
    "id": "_b4pnZnbSKnW",
    "outputId": "c2a9ee38-d0f7-4059-c52c-aa86d1ca6483"
   },
   "outputs": [
    {
     "name": "stdout",
     "output_type": "stream",
     "text": [
      "left end:  193198.7108030292\n",
      "right end:  292805.4524622769\n"
     ]
    }
   ],
   "source": [
    "print(\"left end: \", mean - 3* (std/np.sqrt(n)))\n",
    "print(\"right end: \", mean + 3* (std/np.sqrt(n)))"
   ]
  },
  {
   "cell_type": "code",
   "execution_count": 18,
   "metadata": {
    "executionInfo": {
     "elapsed": 1,
     "status": "ok",
     "timestamp": 1667851292449,
     "user": {
      "displayName": "David Henriques",
      "userId": "12666549553310163307"
     },
     "user_tz": 0
    },
    "id": "FnpywKK5XH3x"
   },
   "outputs": [],
   "source": []
  },
  {
   "cell_type": "code",
   "execution_count": 18,
   "metadata": {
    "executionInfo": {
     "elapsed": 1,
     "status": "ok",
     "timestamp": 1667851292859,
     "user": {
      "displayName": "David Henriques",
      "userId": "12666549553310163307"
     },
     "user_tz": 0
    },
    "id": "DUSEAiSGYmpD"
   },
   "outputs": [],
   "source": []
  },
  {
   "cell_type": "code",
   "execution_count": 18,
   "metadata": {
    "executionInfo": {
     "elapsed": 2,
     "status": "ok",
     "timestamp": 1667851293087,
     "user": {
      "displayName": "David Henriques",
      "userId": "12666549553310163307"
     },
     "user_tz": 0
    },
    "id": "i_1t6G6kXH-i"
   },
   "outputs": [],
   "source": []
  },
  {
   "cell_type": "code",
   "execution_count": null,
   "metadata": {
    "id": "_Jl_LxEJmeYn"
   },
   "outputs": [],
   "source": [
    "#do it yourself\n",
    "# what if we prefer 98% confidence?"
   ]
  },
  {
   "cell_type": "code",
   "execution_count": null,
   "metadata": {
    "colab": {
     "base_uri": "https://localhost:8080/"
    },
    "executionInfo": {
     "elapsed": 3,
     "status": "ok",
     "timestamp": 1651670563190,
     "user": {
      "displayName": "David Henriques",
      "userId": "12666549553310163307"
     },
     "user_tz": -60
    },
    "id": "IGreIV9ZnEt3",
    "outputId": "8770d8b7-5277-4738-9c61-d9809ed7e2c5"
   },
   "outputs": [
    {
     "name": "stdout",
     "output_type": "stream",
     "text": [
      "left end:  214106.6236283767\n",
      "right end:  291346.6008614192\n"
     ]
    }
   ],
   "source": [
    "# answer\n",
    "z = st.norm.ppf(.99) #watch out, why 0.99? Double tail.\n",
    "z\n",
    "print(\"left end: \", mean - z* (std/np.sqrt(n)))\n",
    "print(\"right end: \", mean + z* (std/np.sqrt(n)))"
   ]
  },
  {
   "cell_type": "code",
   "execution_count": null,
   "metadata": {
    "colab": {
     "base_uri": "https://localhost:8080/"
    },
    "executionInfo": {
     "elapsed": 2,
     "status": "ok",
     "timestamp": 1651670568051,
     "user": {
      "displayName": "David Henriques",
      "userId": "12666549553310163307"
     },
     "user_tz": -60
    },
    "id": "8xbZoQgS7GzA",
    "outputId": "40e84579-56ca-4a13-8c2b-8f490c904349"
   },
   "outputs": [
    {
     "data": {
      "text/plain": [
       "258114.25903525593"
      ]
     },
     "execution_count": 22,
     "metadata": {},
     "output_type": "execute_result"
    }
   ],
   "source": [
    "houses_close['median_house_value'].mean()"
   ]
  },
  {
   "cell_type": "code",
   "execution_count": null,
   "metadata": {
    "id": "_TA1EMPSsrdy"
   },
   "outputs": [],
   "source": []
  },
  {
   "cell_type": "code",
   "execution_count": null,
   "metadata": {
    "id": "nTmsxpB0srhx"
   },
   "outputs": [],
   "source": []
  },
  {
   "cell_type": "code",
   "execution_count": null,
   "metadata": {
    "id": "W9BriNEut73c"
   },
   "outputs": [],
   "source": [
    "#okay, now we don't have the real std, just the actual sample\n",
    "houses_close_sample = houses_close.sample(100)"
   ]
  },
  {
   "cell_type": "code",
   "execution_count": 22,
   "metadata": {
    "colab": {
     "base_uri": "https://localhost:8080/"
    },
    "executionInfo": {
     "elapsed": 259,
     "status": "ok",
     "timestamp": 1667851671429,
     "user": {
      "displayName": "David Henriques",
      "userId": "12666549553310163307"
     },
     "user_tz": 0
    },
    "id": "bx4PDc-UuKFx",
    "outputId": "22961f7b-d338-43a2-c39b-c858279f6968"
   },
   "outputs": [
    {
     "data": {
      "text/plain": [
       "2.3646058614359737"
      ]
     },
     "execution_count": 22,
     "metadata": {},
     "output_type": "execute_result"
    }
   ],
   "source": [
    "#we want a 98% confidence interval for the mean prices of houses close to schools\n",
    "# first we compute the t value\n",
    "t = st.t.ppf(1-((1-0.98)/2),100-1)\n",
    "t"
   ]
  },
  {
   "cell_type": "code",
   "execution_count": 23,
   "metadata": {
    "executionInfo": {
     "elapsed": 262,
     "status": "ok",
     "timestamp": 1667851672785,
     "user": {
      "displayName": "David Henriques",
      "userId": "12666549553310163307"
     },
     "user_tz": 0
    },
    "id": "ouh4kvpyufAp"
   },
   "outputs": [],
   "source": [
    "#now the sample mean and sample std\n",
    "s = houses_close_sample['median_house_value'].std(ddof=1)\n",
    "mean = houses_close_sample['median_house_value'].mean()\n",
    "n=100"
   ]
  },
  {
   "cell_type": "code",
   "execution_count": 24,
   "metadata": {
    "colab": {
     "base_uri": "https://localhost:8080/"
    },
    "executionInfo": {
     "elapsed": 2,
     "status": "ok",
     "timestamp": 1667851673351,
     "user": {
      "displayName": "David Henriques",
      "userId": "12666549553310163307"
     },
     "user_tz": 0
    },
    "id": "XC4kq0LpuHz7",
    "outputId": "61583c99-e319-4628-8f6f-7ef5d4cb4d1a"
   },
   "outputs": [
    {
     "name": "stdout",
     "output_type": "stream",
     "text": [
      "left end:  216402.52228264167\n",
      "right end:  269601.6409826644\n"
     ]
    }
   ],
   "source": [
    "#and finally, the interval itself:\n",
    "print(\"left end: \", mean - t* (s/np.sqrt(n)))\n",
    "print(\"right end: \", mean + t* (s/np.sqrt(n)))"
   ]
  },
  {
   "cell_type": "code",
   "execution_count": 25,
   "metadata": {
    "colab": {
     "base_uri": "https://localhost:8080/"
    },
    "executionInfo": {
     "elapsed": 290,
     "status": "ok",
     "timestamp": 1667851675389,
     "user": {
      "displayName": "David Henriques",
      "userId": "12666549553310163307"
     },
     "user_tz": 0
    },
    "id": "Lbgdj4I5vH5b",
    "outputId": "d8520be9-e60b-41ff-f429-bb4ae701a278"
   },
   "outputs": [
    {
     "data": {
      "text/plain": [
       "(216402.52228264167, 269601.6409826644)"
      ]
     },
     "execution_count": 25,
     "metadata": {},
     "output_type": "execute_result"
    }
   ],
   "source": [
    "st.t.interval(0.98,100-1, loc=mean, scale=s/np.sqrt(100)) "
   ]
  },
  {
   "cell_type": "code",
   "execution_count": 26,
   "metadata": {
    "executionInfo": {
     "elapsed": 255,
     "status": "ok",
     "timestamp": 1667851677570,
     "user": {
      "displayName": "David Henriques",
      "userId": "12666549553310163307"
     },
     "user_tz": 0
    },
    "id": "64nlCHYpvH9T"
   },
   "outputs": [],
   "source": [
    "#do it yourself\n",
    "# repeat this exercise for the set of houses away from schools\n",
    "houses_far_sample = houses_far.sample(100)"
   ]
  },
  {
   "cell_type": "code",
   "execution_count": 27,
   "metadata": {
    "colab": {
     "base_uri": "https://localhost:8080/"
    },
    "executionInfo": {
     "elapsed": 2,
     "status": "ok",
     "timestamp": 1667851677838,
     "user": {
      "displayName": "David Henriques",
      "userId": "12666549553310163307"
     },
     "user_tz": 0
    },
    "id": "mw6Nyef0vB4l",
    "outputId": "fd909962-bc50-46de-b498-ec22c1aa9115"
   },
   "outputs": [
    {
     "name": "stdout",
     "output_type": "stream",
     "text": [
      "left end:  158145.2841089496\n",
      "right end:  212894.7758910504\n"
     ]
    }
   ],
   "source": [
    "#answer\n",
    "t = st.t.ppf(1-((1-0.98)/2),100-1)\n",
    "s = houses_far_sample['median_house_value'].std()\n",
    "mean = houses_far_sample['median_house_value'].mean()\n",
    "n=100\n",
    "print(\"left end: \", mean - t* (s/np.sqrt(n)))\n",
    "print(\"right end: \", mean + t* (s/np.sqrt(n)))"
   ]
  },
  {
   "cell_type": "code",
   "execution_count": 28,
   "metadata": {
    "colab": {
     "base_uri": "https://localhost:8080/"
    },
    "executionInfo": {
     "elapsed": 2,
     "status": "ok",
     "timestamp": 1667851678341,
     "user": {
      "displayName": "David Henriques",
      "userId": "12666549553310163307"
     },
     "user_tz": 0
    },
    "id": "muOwW4sGPYwz",
    "outputId": "71aec836-885b-4fe4-9f56-644b0617da6d"
   },
   "outputs": [
    {
     "data": {
      "text/plain": [
       "(158145.2841089496, 212894.7758910504)"
      ]
     },
     "execution_count": 28,
     "metadata": {},
     "output_type": "execute_result"
    }
   ],
   "source": [
    "st.t.interval(0.98,100-1, loc=mean, scale=s/np.sqrt(100)) "
   ]
  },
  {
   "cell_type": "code",
   "execution_count": null,
   "metadata": {
    "id": "r3pg-7kMvnfx"
   },
   "outputs": [],
   "source": [
    "#What do we conclude?\n",
    "#We have answered our question statistically!"
   ]
  },
  {
   "cell_type": "markdown",
   "metadata": {
    "id": "kRVFFQwxjQO7"
   },
   "source": [
    "## Computing number of samples needed"
   ]
  },
  {
   "cell_type": "markdown",
   "metadata": {
    "id": "lZ0zCPU0jX4R"
   },
   "source": [
    "Confidence interval = [μ - t * s / √n , μ + t * s / √n]\n",
    "\n",
    "W =   (μ + t * s / √n) - (μ - t * s / √n) = 2 * t * s / √n\n",
    "\n",
    "\n",
    "Objective: n=?\n",
    "\n",
    "W = 2 * t * s / √n         ⇔\n",
    "\n",
    "√n * W = 2 * t * s         ⇔\n",
    "\n",
    "√n = 2 * t * s / W         ⇔\n",
    "\n",
    "n = (2 * t * s / W)2\n",
    "\n",
    "\n",
    "\n",
    "Problem: t depends on n!\n",
    "98% confidence -> t = st.t.ppf(1-((1-0.98)/2),n-1)\n",
    "\n",
    "So...\n",
    "Start by assuming n really large to get a provisional t1\n",
    "\n",
    "98% confidence -> t1 = st.t.ppf(1-((1-0.98)/2),99999999-1)= st.norm.ppf(1-((1-0.98)/2))\n",
    "\n",
    "Now plug this t into your equation to get a provisional n1\n",
    "\n",
    "n1 = (2 * t1 * s / W)2\n",
    "\n",
    "Now use this provisional n1 to refine your estimate for t, t2\n",
    "\n",
    "98% confidence ->  t2 = st.t.ppf(1-((1-0.98)/2), n1-1)\n",
    "\n",
    "Now plug this t into your equation to get a provisional n2\n",
    "\n",
    "n2 = (2 * t2 * s / W)2\n",
    "\n",
    "…\n",
    "\n",
    "Until you get the same n twice in a row"
   ]
  },
  {
   "cell_type": "code",
   "execution_count": null,
   "metadata": {
    "id": "HmBjq2v6jXVe"
   },
   "outputs": [],
   "source": [
    "#e.g. number of samples needed to have 98% confidence to get interval of Width = 10.000 or less"
   ]
  },
  {
   "cell_type": "code",
   "execution_count": null,
   "metadata": {
    "id": "pfpJJ5KLjyyZ"
   },
   "outputs": [],
   "source": [
    "def find_n(t,s,W):\n",
    "  return (2*t*s/W)**2"
   ]
  },
  {
   "cell_type": "code",
   "execution_count": null,
   "metadata": {
    "id": "4JFb0lHMkOSS"
   },
   "outputs": [],
   "source": [
    "W = 10000"
   ]
  },
  {
   "cell_type": "code",
   "execution_count": null,
   "metadata": {
    "colab": {
     "base_uri": "https://localhost:8080/"
    },
    "executionInfo": {
     "elapsed": 902,
     "status": "ok",
     "timestamp": 1612887132342,
     "user": {
      "displayName": "David Henriques",
      "photoUrl": "",
      "userId": "14332050621134291491"
     },
     "user_tz": 0
    },
    "id": "lIsLAinskBQv",
    "outputId": "115d7c25-c227-497c-bdaa-56489e0c7602"
   },
   "outputs": [
    {
     "data": {
      "text/plain": [
       "2.3263478740408408"
      ]
     },
     "execution_count": 19,
     "metadata": {
      "tags": []
     },
     "output_type": "execute_result"
    }
   ],
   "source": [
    "t0 = st.norm.ppf(1-((1-0.98)/2))\n",
    "t0"
   ]
  },
  {
   "cell_type": "code",
   "execution_count": null,
   "metadata": {
    "colab": {
     "base_uri": "https://localhost:8080/"
    },
    "executionInfo": {
     "elapsed": 969,
     "status": "ok",
     "timestamp": 1612887233611,
     "user": {
      "displayName": "David Henriques",
      "photoUrl": "",
      "userId": "14332050621134291491"
     },
     "user_tz": 0
    },
    "id": "zxVh1VEkkIUM",
    "outputId": "6bad6a77-7d9d-4448-e017-de83116217a3"
   },
   "outputs": [
    {
     "data": {
      "text/plain": [
       "2562.1406552854155"
      ]
     },
     "execution_count": 25,
     "metadata": {
      "tags": []
     },
     "output_type": "execute_result"
    }
   ],
   "source": [
    "n_temp = find_n(t0,s,W)\n",
    "n_temp"
   ]
  },
  {
   "cell_type": "code",
   "execution_count": null,
   "metadata": {
    "colab": {
     "base_uri": "https://localhost:8080/"
    },
    "executionInfo": {
     "elapsed": 974,
     "status": "ok",
     "timestamp": 1612887237512,
     "user": {
      "displayName": "David Henriques",
      "photoUrl": "",
      "userId": "14332050621134291491"
     },
     "user_tz": 0
    },
    "id": "PtxabyCtkQx0",
    "outputId": "0193222e-8b1a-4286-86bc-7bb8bee4070e"
   },
   "outputs": [
    {
     "data": {
      "text/plain": [
       "2.3278047672974145"
      ]
     },
     "execution_count": 26,
     "metadata": {
      "tags": []
     },
     "output_type": "execute_result"
    }
   ],
   "source": [
    "t1 = st.t.ppf(1-((1-0.98)/2),n_temp-1)\n",
    "t1"
   ]
  },
  {
   "cell_type": "code",
   "execution_count": null,
   "metadata": {
    "colab": {
     "base_uri": "https://localhost:8080/"
    },
    "executionInfo": {
     "elapsed": 1065,
     "status": "ok",
     "timestamp": 1612887245169,
     "user": {
      "displayName": "David Henriques",
      "photoUrl": "",
      "userId": "14332050621134291491"
     },
     "user_tz": 0
    },
    "id": "cMgVu4yokcAL",
    "outputId": "50833c36-eab3-420d-9b4d-8dfde6439c65"
   },
   "outputs": [
    {
     "data": {
      "text/plain": [
       "2565.3507807539977"
      ]
     },
     "execution_count": 27,
     "metadata": {
      "tags": []
     },
     "output_type": "execute_result"
    }
   ],
   "source": [
    "n_temp = find_n(t1,s,W)\n",
    "n_temp"
   ]
  },
  {
   "cell_type": "code",
   "execution_count": null,
   "metadata": {
    "colab": {
     "base_uri": "https://localhost:8080/"
    },
    "executionInfo": {
     "elapsed": 857,
     "status": "ok",
     "timestamp": 1612887260941,
     "user": {
      "displayName": "David Henriques",
      "photoUrl": "",
      "userId": "14332050621134291491"
     },
     "user_tz": 0
    },
    "id": "whuHZJyXkeNp",
    "outputId": "c0f86006-4495-4df7-93b9-2312c5338d5b"
   },
   "outputs": [
    {
     "data": {
      "text/plain": [
       "2.3278029424267968"
      ]
     },
     "execution_count": 28,
     "metadata": {
      "tags": []
     },
     "output_type": "execute_result"
    }
   ],
   "source": [
    "t2 = st.t.ppf(1-((1-0.98)/2),n_temp-1)\n",
    "t2"
   ]
  },
  {
   "cell_type": "code",
   "execution_count": null,
   "metadata": {
    "colab": {
     "base_uri": "https://localhost:8080/"
    },
    "executionInfo": {
     "elapsed": 516,
     "status": "ok",
     "timestamp": 1612887269573,
     "user": {
      "displayName": "David Henriques",
      "photoUrl": "",
      "userId": "14332050621134291491"
     },
     "user_tz": 0
    },
    "id": "fo6Yv9xXknuI",
    "outputId": "22aac59e-4467-44e6-fe06-8c46abe918a5"
   },
   "outputs": [
    {
     "data": {
      "text/plain": [
       "2565.346758568379"
      ]
     },
     "execution_count": 29,
     "metadata": {
      "tags": []
     },
     "output_type": "execute_result"
    }
   ],
   "source": [
    "n_temp = find_n(t2,s,W)\n",
    "n_temp"
   ]
  },
  {
   "cell_type": "code",
   "execution_count": null,
   "metadata": {
    "id": "aH4w52atkp5_"
   },
   "outputs": [],
   "source": [
    "#done"
   ]
  }
 ],
 "metadata": {
  "colab": {
   "collapsed_sections": [],
   "provenance": []
  },
  "kernelspec": {
   "display_name": "Python 3 (ipykernel)",
   "language": "python",
   "name": "python3"
  },
  "language_info": {
   "codemirror_mode": {
    "name": "ipython",
    "version": 3
   },
   "file_extension": ".py",
   "mimetype": "text/x-python",
   "name": "python",
   "nbconvert_exporter": "python",
   "pygments_lexer": "ipython3",
   "version": "3.7.13"
  }
 },
 "nbformat": 4,
 "nbformat_minor": 1
}
